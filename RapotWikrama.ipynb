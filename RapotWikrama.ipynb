{
 "cells": [
  {
   "cell_type": "code",
   "execution_count": null,
   "metadata": {},
   "outputs": [
    {
     "name": "stdout",
     "output_type": "stream",
     "text": [
      "********************************************\n",
      "**************Data Inputan******************\n"
     ]
    }
   ],
   "source": [
    "print (\"********************************************\")\n",
    "print (\"**************Data Inputan******************\")\n",
    "nis    = int(input(\"NIS     :\"))\n",
    "nama   = str(input(\"Nama    :\"))\n",
    "jk     = str(input(\"JK      :\"))\n",
    "rombel = (input(\"Rombel     :\"))\n",
    "rayon  = (input(\"Rayon      :\"))\n",
    "indo      = int(input(\"Nilai Bahasa Indonesia  :\"))\n",
    "mtk       = int(input(\"Nilai Matematika        :\"))\n",
    "inggris   = int(input(\"Nilai Bahasa Inggris    :\"))\n",
    "print (\"********************************************\")\n",
    "print (\"Laporan Nilai Akhir Semester\")\n",
    "print (\"Smk Wikrama Bogor\")\n",
    "print (\"*****************Data Diri*******************\")\n",
    "print (\"NIS      : \", nis)\n",
    "print (\"Nama     : \", nama)\n",
    "print (\"JK       : \", jk)\n",
    "print (\"Rombel   : \", rombel)\n",
    "print (\"Rayon    : \", rayon)\n",
    "print (\"******************Nilai**********************\")\n",
    "print (\"Nilai Bahasa Indonesia  :\", indo)\n",
    "print (\"Nilai Matematika        :\", mtk)\n",
    "print (\"Nilai Bahasa Inggris    :\", inggris)\n",
    "rata2=(indo+mtk+inggris)/3\n",
    "print(\"Rata-rata Nilai          :\", rata2)\n",
    "if rata2 >= 75:\n",
    "    a = \"Lulus\"\n",
    "else:\n",
    "    a = \"Tidak Lulus\"\n",
    "print (\"Kriteria Kelulusan      :\", a)\n",
    "print (\"************************************************\")"
   ]
  },
  {
   "cell_type": "code",
   "execution_count": null,
   "metadata": {},
   "outputs": [],
   "source": []
  }
 ],
 "metadata": {
  "kernelspec": {
   "display_name": "Python 3",
   "language": "python",
   "name": "python3"
  },
  "language_info": {
   "codemirror_mode": {
    "name": "ipython",
    "version": 3
   },
   "file_extension": ".py",
   "mimetype": "text/x-python",
   "name": "python",
   "nbconvert_exporter": "python",
   "pygments_lexer": "ipython3",
   "version": "3.7.3"
  }
 },
 "nbformat": 4,
 "nbformat_minor": 2
}
